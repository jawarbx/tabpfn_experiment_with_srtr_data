{
 "cells": [
  {
   "cell_type": "markdown",
   "id": "e783c6f9-5319-4da6-8d33-98d5e2138ce9",
   "metadata": {},
   "source": [
    "# Reproduction of Ml Hype or Hope Paper\n",
    "- Goal: Reproduce Regression, XGBoost and Random Forest (RF) stats\n",
    "- Step 1: Get data + merge\n",
    "- Step 2: Train models (Regression, XGBoost, RF)\n",
    "- Step 3: Figure out how to model w/ \n",
    "\n",
    "## Note: the variable names are freely available on the srtr data dictionary"
   ]
  },
  {
   "cell_type": "markdown",
   "id": "023d23aa-2bdf-4b3c-9ca8-71841b500e4f",
   "metadata": {},
   "source": [
    "# Data\n",
    "- Location: \n",
    "- Time range: January 1, 2005 to December 31, 2017\n",
    "- Who are we looking at?:\n",
    "  - Kidney Transplant pts --> KI files\n",
    "- What are we looking for?:\n",
    "  - **Delayed graft function** = Need for dialysis within 1st week of transplant (post tx) --> Got it\n",
    "  - **One-Year acute rejection** = All acute rejection episodes reported UP TO 1-Yr Follow Up (post tx) --> Binary outcome --> *Means count if it happend*\n",
    "        - Got it: Filter by followup period + check rejection episode (Y/N)\n",
    "  - **Death-Censored graft failure** = $\\Delta t$ from first transplant to EITHER reinit dialysis OR another-transplant --> *Death-censoring?*\n",
    "        - \n",
    "  - **All-Cause Graft failure** = $\\Delta t$ from first transplant to EITHER reinit dialysis OR another transplant OR death\n",
    "  - **Death** = $\\Delta t$ first transplant to death???\n",
    "- Start w/TX_KI and TXF_KI\n",
    "- Demographics:\n",
    "  - 18+: `rec_age_at_listing`\n",
    "- Need to find:\n",
    "  - Date of graft failure: `rec_prev_graft*_dt`, `rec_fail_dt`\n",
    "  - Reason for graft failure:, `rec_fail_cause_ty` --> code 102, `tfl_dial_ty` --> not codes 1 or 998, `rec_resum_maint_dial` & `rec_resum_maint_dial_dt` (Might not use this since maitainence dialysis = not transplant yet according to google)\n",
    "  - Delayed graft function: `rec_first_week_dial` (resumed dialysis after first week of transplant)\n",
    "  - Deceased Donor (Y/N): `don_ty` --> C = deceased donor\n",
    "  - Tx center: `rec_ctr_cd`\n",
    "  - Tx date: `rec_tx_dt`, `rec_tx_org_ty` \n",
    "  - Acute rejection episodes during followup (Y/N): `tfl_acute_reg_episode`, `rec_acute_reg_episode` --> Not code 3\n",
    "    - Followup period: `tfl_fol_cd` --> codes 1 (discharge) ,3 (3 months) ,6 (6 months),10 (1yr), 999 (death)\n",
    "  - Death: `rec_px_stat`, `tfl_px_stat` --> code D & `rec_px_stat_dt`, `tfl_px_stat_dt`\n",
    "  - Retransplant: `rec_px_stat`,`tfl_px_stat` --> code R\n",
    "  - Might need: `CAN_PREV_KI`, `CAN_PREV_KI_TX_FUNCTN`, `CAN_PREV_TX`\n",
    "  - Linking variables\n",
    "     - candidate file + tx file: `px_id`\n",
    "     - tx file to follow up file: `tx_id`\n",
    "- **Variables by file**\n",
    "- tx_ki: `[\"rec_prev_graft1_dt\", \"rec_fail_dt\", \"rec_fail_cause_ty\", \"rec_resum_maint_dial\", \"rec_resum_maint_dial_dt\", \"rec_first_week_dial\", \"don_ty\", \"rec_ctr_cd\", \"rec_ctr_ty\", \"rec_tx_dt\", \"rec_tx_org_ty\", \"rec_acute_rej_episode\", \"rec_px_stat\", \"rec_px_stat_dt\", \"can_prev_ki\",\"can_prev_ki_tx_functn\",\"tfl_death_dt\"]`\n",
    "- txf_ki:`[\"tfl_dial_ty\", \"tfl_acute_reg_episode\",\"tfl_fol_cd\",\"tfl_px_stat\",\"tfl_px_stat_dt\"]`"
   ]
  },
  {
   "cell_type": "code",
   "execution_count": null,
   "id": "6a096390-8fed-43e6-bd28-410c0889e779",
   "metadata": {},
   "outputs": [],
   "source": [
    "import pandas as pd\n",
    "from datetime import datetime\n",
    "#Removed paths for Release\n",
    "donor_df = pd.read_stata()\n",
    "tx_ki_raw = pd.read_stata()\n",
    "txf_ki_raw = pd.read_stata()"
   ]
  },
  {
   "cell_type": "markdown",
   "id": "0dd6e4c7-a3f3-461d-b0e8-70a65314e1c3",
   "metadata": {},
   "source": [
    "# Covariates\n",
    "- Donor variables: Need: donation after cardiac death\n",
    "- Recipient variables: Need: pre-emptive transplant, time on dialysis"
   ]
  },
  {
   "cell_type": "code",
   "execution_count": null,
   "id": "0d87c759-c604-4603-b848-d0900e6e1961",
   "metadata": {},
   "outputs": [],
   "source": [
    "donor_vars = [\"don_hist_hyperten\", \"don_hist_diab\", \"don_anti_hcv\", \"don_anti_cmv\", \"don_creat\", \"don_cod_don_stroke\", \"don_wgt_kg\", \"don_hgt_cm\", \"don_abo\", \"don_race\", \"don_gender\", \"don_age\", \"don_ethnicity_srtr\"]\n",
    "tx_ki_raw[donor_vars]"
   ]
  },
  {
   "cell_type": "markdown",
   "id": "9acf4d6a-28fc-4f9a-bfd7-555bbbab3db4",
   "metadata": {},
   "source": [
    "### Donation after cardiac death"
   ]
  },
  {
   "cell_type": "code",
   "execution_count": null,
   "id": "79eee4ef-8183-45b5-bd46-42232d4d9385",
   "metadata": {},
   "outputs": [],
   "source": [
    "donor_df"
   ]
  },
  {
   "cell_type": "code",
   "execution_count": null,
   "id": "4ff0b6a1-034d-4919-810e-f679892d3d73",
   "metadata": {},
   "outputs": [],
   "source": [
    "donor_df = donor_df[['donor_id','don_dcd_progress_to_brain_death']]\n",
    "donor_df['DCD'] = donor_df['don_dcd_progress_to_brain_death'].apply(lambda x: 1 if x == '' else 0)"
   ]
  },
  {
   "cell_type": "code",
   "execution_count": null,
   "id": "27c8c426-5322-418d-8f8f-b9ccddfc1020",
   "metadata": {
    "scrolled": true
   },
   "outputs": [],
   "source": [
    "dcd_donor_ids = set(donor_df[donor_df['DCD'] == 1].donor_id)\n",
    "tx_ki_raw['DCD'] = 1\n",
    "tx_ki_raw['DCD'] = tx_ki_raw.donor_id.apply(lambda x: 1 if x in dcd_donor_ids else 0)"
   ]
  },
  {
   "cell_type": "code",
   "execution_count": null,
   "id": "27874266-0c46-4c33-bf21-0bbb4797aa2e",
   "metadata": {},
   "outputs": [],
   "source": [
    "recipient_vars = [\"rec_dr_mm_equiv_tx\",\"rec_b_mm_equiv_tx\",\"rec_a_mm_equiv_tx\",\"rec_cold_isch_tm\",\"can_education\",\"can_tot_albumin\",\"can_periph_vasc\",\"rec_malig\",\"can_drug_treat_hyperten\",\"can_diab_ty\",\"rec_pra_most_recent\",\"rec_dial_dt\",\"rec_prev_ki\",\"rec_ebv_stat\",\"rec_hcv_stat\",\"rec_hbv_antibody\",\"rec_cmv_stat\",\"rec_hiv_stat\",\"rec_bmi\",\"rec_primary_pay\",\"can_abo\",\"rec_dgn\",\"can_race\",\"can_gender\",\"rec_age_at_tx\",\"can_ethnicity_srtr\"]\n",
    "tx_ki_raw[recipient_vars]"
   ]
  },
  {
   "cell_type": "markdown",
   "id": "25f61977-2ead-4e0b-b505-7d5c0ce86cfc",
   "metadata": {},
   "source": [
    "### Pre-emptive transplant"
   ]
  },
  {
   "cell_type": "code",
   "execution_count": null,
   "id": "6936e8f5-6e8e-4f8f-ae88-0245c478d6ab",
   "metadata": {},
   "outputs": [],
   "source": [
    "tx_ki_raw['rec_preemptive_tx'] = 0\n",
    "tx_ki_raw['rec_preemptive_tx'] = tx_ki_raw.apply(\n",
    "    lambda x: 1 if pd.isna(x['rec_dial_dt']) or x['rec_dial_dt'] > x['rec_tx_dt'] else 0,\n",
    "    axis=1\n",
    ")"
   ]
  },
  {
   "cell_type": "markdown",
   "id": "55b3507a-6a25-4ea7-b47b-3e9859e4d696",
   "metadata": {},
   "source": [
    "### Time on Dialysis"
   ]
  },
  {
   "cell_type": "code",
   "execution_count": null,
   "id": "f6e8daea-6211-48d8-8346-563a590113b9",
   "metadata": {},
   "outputs": [],
   "source": [
    "tx_ki_raw['rec_time_on_dialysis'] = 0\n",
    "\n",
    "tx_ki_raw['rec_time_on_dialysis'] = tx_ki_raw.apply(\n",
    "    lambda x: 0 if pd.isna(x['rec_dial_dt']) or x['rec_dial_dt'] > x['rec_tx_dt'] else (x['rec_tx_dt']-x['rec_dial_dt']).days/365.25,\n",
    "    axis=1\n",
    ")"
   ]
  },
  {
   "cell_type": "code",
   "execution_count": null,
   "id": "d0a4c713-c4c1-4958-88d8-cc4001d7ab7e",
   "metadata": {},
   "outputs": [],
   "source": [
    "donor_vars.append('DCD')\n",
    "recipient_vars.append('rec_preemptive_tx')\n",
    "recipient_vars.append('rec_time_on_dialysis')"
   ]
  },
  {
   "cell_type": "code",
   "execution_count": null,
   "id": "33eafde1-39e7-414f-90b3-fd5498282b1f",
   "metadata": {},
   "outputs": [],
   "source": [
    "tx_ki_raw[donor_vars + recipient_vars]"
   ]
  },
  {
   "cell_type": "markdown",
   "id": "e9c2991f-cbd4-4c22-89d1-56e7cddb79f7",
   "metadata": {},
   "source": [
    "# Outcomes"
   ]
  },
  {
   "cell_type": "code",
   "execution_count": null,
   "id": "657dd390-9d2d-4ccb-a96f-626a2d1ccd41",
   "metadata": {},
   "outputs": [],
   "source": [
    "#Date boundaries\n",
    "start_date = datetime(2005,1,1) #January 1, 2005\n",
    "end_date = datetime(2017, 12, 31) # December 31, 2017"
   ]
  },
  {
   "cell_type": "code",
   "execution_count": null,
   "id": "ceca5ff0-9f63-4d40-86f1-47ba4e0f9329",
   "metadata": {
    "scrolled": true
   },
   "outputs": [],
   "source": [
    "# Perfect replication of population\n",
    "tx_var = [\"px_id\",\"tx_id\",\"trr_id\",\"rec_age_at_tx\",\"pers_retx\",\"rec_prev_graft1_dt\", \"rec_fail_dt\", \"rec_fail_cause_ty\", \"rec_resum_maint_dial\", \"rec_resum_maint_dial_dt\", \"rec_first_week_dial\", \"don_ty\", \"rec_ctr_cd\", \"rec_ctr_ty\", \"rec_tx_dt\", \"rec_tx_org_ty\", \"rec_acute_rej_episode\", \"rec_px_stat\", \"rec_px_stat_dt\", \"can_prev_ki\",\"can_prev_ki_tx_functn\",\"tfl_death_dt\",\"pers_ssa_death_dt\",\"pers_retx_trr_id\",\"pers_optn_death_dt\"] + donor_vars + recipient_vars\n",
    "tx_ki_df = tx_ki_raw[tx_var][(start_date <= tx_ki_raw.rec_tx_dt) & (tx_ki_raw.rec_tx_dt <= end_date) & (tx_ki_raw.rec_age_at_tx >= '18-34') & (tx_ki_raw.don_ty == 'C') & (tx_ki_raw.rec_tx_org_ty == 'KI')]"
   ]
  },
  {
   "cell_type": "code",
   "execution_count": null,
   "id": "2581ee69-e2cf-45cc-b500-4f192daf7140",
   "metadata": {},
   "outputs": [],
   "source": [
    "txf_var = [\"px_id\",\"tx_id\",\"trr_id\",\"tfl_dial_ty\", \"tfl_acute_rej_episode\",\"tfl_fol_cd\",\"tfl_px_stat\",\"tfl_px_stat_dt\", \"tfl_resum_maint_dial_dt\"]\n",
    "txf_ki_df = txf_ki_raw[txf_var][txf_ki_raw.tfl_fol_cd <= '          10: 1 YEAR']"
   ]
  },
  {
   "cell_type": "markdown",
   "id": "50ea9351-2a10-46fe-9db6-a12dfdd024ab",
   "metadata": {},
   "source": [
    "## Delayed graft function\n",
    "- rec_first_week_dial --> Y/N?"
   ]
  },
  {
   "cell_type": "code",
   "execution_count": null,
   "id": "42926505-75da-40d3-887a-b3c5f496ae27",
   "metadata": {},
   "outputs": [],
   "source": [
    "tx_ki_df['DGF'] = tx_ki_df.rec_first_week_dial.apply(lambda x: 1 if x == 'Y' else 0)"
   ]
  },
  {
   "cell_type": "markdown",
   "id": "7433f98c-3743-4ea4-8f73-d38e8cddd093",
   "metadata": {},
   "source": [
    "## One-Year Acute Rejection\n",
    "- 'all acute rejection episodes reported up to one-year follow up.'\n",
    "- 'treated as a binary outcome'\n",
    "- "
   ]
  },
  {
   "cell_type": "code",
   "execution_count": null,
   "id": "37b0a64b-6385-438d-978e-01f4c694ab79",
   "metadata": {},
   "outputs": [],
   "source": [
    "txf_ki_df.tfl_acute_rej_episode.dtypes.categories"
   ]
  },
  {
   "cell_type": "code",
   "execution_count": null,
   "id": "21eb76aa-74a1-4b87-8296-b95542c4cff7",
   "metadata": {},
   "outputs": [],
   "source": [
    "txf_ki_df.tfl_fol_cd.dtypes.categories"
   ]
  },
  {
   "cell_type": "code",
   "execution_count": null,
   "id": "57246e2c-414d-4b78-bc6a-ca419d6b9605",
   "metadata": {},
   "outputs": [],
   "source": [
    "oya_rej_cats = txf_ki_df.tfl_acute_rej_episode.dtypes.categories\n",
    "txf_ki_df[(txf_ki_df.tfl_acute_rej_episode == oya_rej_cats[0]) | (txf_ki_df.tfl_acute_rej_episode == oya_rej_cats[1])]"
   ]
  },
  {
   "cell_type": "code",
   "execution_count": null,
   "id": "1387ac58-b1f2-4e74-a88d-765a1873326f",
   "metadata": {},
   "outputs": [],
   "source": [
    "len(tx_ki_df.trr_id.unique())"
   ]
  },
  {
   "cell_type": "code",
   "execution_count": null,
   "id": "e3fcb9d5-3336-48a5-87bd-b8ba79be408d",
   "metadata": {},
   "outputs": [],
   "source": [
    "def _oya_aggregation(s):\n",
    "    return s.isin(oya_rej_cats[0:2]).any()\n",
    "\n",
    "oya_test = txf_ki_df.groupby('trr_id')['tfl_acute_rej_episode'].agg(_oya_aggregation)"
   ]
  },
  {
   "cell_type": "code",
   "execution_count": null,
   "id": "a4c94257-2570-4afa-ac39-1b1df3018b8b",
   "metadata": {},
   "outputs": [],
   "source": [
    "oya_test"
   ]
  },
  {
   "cell_type": "code",
   "execution_count": null,
   "id": "8c8be9bd-e821-4622-b12c-54bba249bd23",
   "metadata": {},
   "outputs": [],
   "source": [
    "def _ar_helper(x):\n",
    "    try:\n",
    "        if oya_test[x]:\n",
    "            return 1\n",
    "        else:\n",
    "            return 0\n",
    "    except:\n",
    "        return 0\n",
    "\n",
    "tx_ki_df['AR'] = tx_ki_df.trr_id.apply(lambda x: _ar_helper(x))"
   ]
  },
  {
   "cell_type": "code",
   "execution_count": null,
   "id": "29049a3f-2d31-457a-95ee-48f174172f2d",
   "metadata": {},
   "outputs": [],
   "source": [
    "tx_ki_df"
   ]
  },
  {
   "cell_type": "markdown",
   "id": "0cbe7bd9-f919-4895-8fc3-6e562b41ff5a",
   "metadata": {},
   "source": [
    "## DCGF\n",
    "- \"defined as the time from KT to graft failure (re-initiation of dialysis or re-KT), censoring for death\"\n",
    "- Death censoring: Suppose time of kt is at some $k > 0$ and death time is at some $d > k > 0$. Then we look at time of graft failure $g$ only if $g \\in [k,d]$"
   ]
  },
  {
   "cell_type": "code",
   "execution_count": null,
   "id": "39c4d269-27d4-43a0-bf4a-a2ba579c9624",
   "metadata": {},
   "outputs": [],
   "source": [
    "tx_ki_raw[['pers_id','tx_id','trr_id','rec_tx_dt','tfl_death_dt','rec_fail_dt','pers_retx',\"pers_ssa_death_dt\",\"pers_retx_trr_id\"]]#.dropna(subset=['tfl_death_dt','pers_ssa_death_dt'])"
   ]
  },
  {
   "cell_type": "code",
   "execution_count": null,
   "id": "30ee533d-9446-4e32-846b-62daa51cd7f0",
   "metadata": {},
   "outputs": [],
   "source": [
    "tx_ki_df['custom_death'] = tx_ki_df[['tfl_death_dt','pers_ssa_death_dt','pers_optn_death_dt']].min(axis=1)"
   ]
  },
  {
   "cell_type": "code",
   "execution_count": null,
   "id": "f22b2c36-78b2-4dbf-a07f-6fcc474299d9",
   "metadata": {},
   "outputs": [],
   "source": [
    "tx_ki_df[tx_ki_df.custom_death.isna()]#.iloc[7]#.apply(lambda x: min(x.tfl_death_dt, x.pers_ssa_death_dt, x.pers_optn_death_dt ))"
   ]
  },
  {
   "cell_type": "code",
   "execution_count": null,
   "id": "744b2617-aa83-4d31-9915-8eb414262d3b",
   "metadata": {
    "scrolled": true
   },
   "outputs": [],
   "source": [
    "extra_deaths = txf_ki_raw[txf_ki_raw.trr_id.isin(tx_ki_df.trr_id) & (txf_ki_raw.tfl_px_stat == 'D')][['trr_id','tfl_px_stat_dt']]"
   ]
  },
  {
   "cell_type": "code",
   "execution_count": null,
   "id": "bf3e54cd-a2c8-4155-9d12-325ce9531b91",
   "metadata": {},
   "outputs": [],
   "source": [
    "id_list = set(tx_ki_df.trr_id)"
   ]
  },
  {
   "cell_type": "code",
   "execution_count": null,
   "id": "2e5eb8a0-f86e-43ff-93b9-89e4c5c56245",
   "metadata": {},
   "outputs": [],
   "source": [
    "tx_ki_df['extra_deaths'] = pd.NaT\n",
    "for _,row in extra_deaths.iterrows():\n",
    "    if row.trr_id in id_list:\n",
    "        idx = tx_ki_df[tx_ki_df.trr_id == row.trr_id]\n",
    "        tx_ki_df.loc[idx.index.values,'extra_deaths'] = row.tfl_px_stat_dt"
   ]
  },
  {
   "cell_type": "code",
   "execution_count": null,
   "id": "70dc5b45-8a25-4e29-bd3e-61d65247b3c7",
   "metadata": {},
   "outputs": [],
   "source": [
    "tx_ki_df[tx_ki_df.extra_deaths.notna()]"
   ]
  },
  {
   "cell_type": "code",
   "execution_count": null,
   "id": "0042e4ec-c5a6-4ba5-900f-1d3006ccb231",
   "metadata": {},
   "outputs": [],
   "source": [
    "tx_ki_df['custom_death'] = tx_ki_df[['tfl_death_dt','pers_ssa_death_dt','pers_optn_death_dt','extra_deaths']].min(axis=1)"
   ]
  },
  {
   "cell_type": "code",
   "execution_count": null,
   "id": "34e0caf6-2bb0-4034-beac-761cab94e6c1",
   "metadata": {},
   "outputs": [],
   "source": [
    "extra_resume_times = txf_ki_raw[txf_ki_raw.trr_id.isin(tx_ki_df.trr_id)][['trr_id','tfl_resum_maint_dial_dt']].dropna()"
   ]
  },
  {
   "cell_type": "code",
   "execution_count": null,
   "id": "36af42ba-f470-4a35-bfa1-6f1b1fa39ce4",
   "metadata": {},
   "outputs": [],
   "source": [
    "tx_ki_df['tfl_resum_maint_dial_dt'] = pd.NaT\n",
    "for _,row in extra_resume_times.iterrows():\n",
    "    if row.trr_id in id_list:\n",
    "        idx = tx_ki_df[tx_ki_df.trr_id == row.trr_id]\n",
    "        tx_ki_df.loc[idx.index.values,'tfl_resum_maint_dial_dt'] = row.tfl_resum_maint_dial_dt"
   ]
  },
  {
   "cell_type": "code",
   "execution_count": null,
   "id": "b36d681b-6f2b-413e-8d14-0e68e1842ef8",
   "metadata": {},
   "outputs": [],
   "source": [
    "tx_ki_df['custom_resum_maint_dial'] = tx_ki_df[['rec_resum_maint_dial_dt','tfl_resum_maint_dial_dt']].min(axis=1)"
   ]
  },
  {
   "cell_type": "code",
   "execution_count": null,
   "id": "2c7cb753-4af5-42b8-931d-97b39dd40473",
   "metadata": {},
   "outputs": [],
   "source": [
    "tx_ki_df[tx_ki_df.tfl_resum_maint_dial_dt.notna()]"
   ]
  },
  {
   "cell_type": "code",
   "execution_count": null,
   "id": "35031934-0465-42f1-8365-eb392ebc91a1",
   "metadata": {},
   "outputs": [],
   "source": [
    "tx_ki_df[['tx_id','trr_id','rec_resum_maint_dial_dt','rec_resum_maint_dial','custom_death','pers_retx']]"
   ]
  },
  {
   "cell_type": "code",
   "execution_count": null,
   "id": "f2e7a4a2-9b9f-4dde-9532-8dc1d38888b1",
   "metadata": {},
   "outputs": [],
   "source": [
    "import numpy as np\n",
    "# For each patient:\n",
    "# Check the tx file --> get the date of resuming maintainence dialysis, prior transplant date, death date, recall: end_date = datetime(2017, 12, 31) = December 31, 2017\n",
    "# Check the followup file --> get the date of resuming maintanence dialysis, death date (should be same, but double check)\n",
    "# Take min among maintanence dialysis from tx file, prior transplant date, and maintanence dialysis from followup file\n",
    "# Take min among death date from tx and followup death dates\n",
    "\n",
    "#function logic:\n",
    "#Find boundary: min(maintanence, prior_tx, death)\n",
    "\n",
    "#If arg 0 or 1 --> Graft fail happened, output: event, find graft fail - start time\n",
    "#If arg 2 --> Death before graft fail, output: no event, find death - start time\n",
    "#If arg 3 --> Alive at end, output: no event, find end time - start time\n",
    "def _dcgf_helper(row):\n",
    "    arg0, arg1, arg2 = row[['custom_resum_maint_dial','pers_retx','custom_death']]#.values[0]\n",
    "    out = np.array([arg0,arg1,arg2,np.datetime64(end_date)])\n",
    "    bound = np.min(out[~pd.isna(out)])\n",
    "\n",
    "    if arg0 == bound or arg1 == bound:\n",
    "        return 1, bound - row.rec_tx_dt\n",
    "    elif arg2 == bound:\n",
    "        return 0, bound - row.rec_tx_dt\n",
    "    else:\n",
    "        return 0, end_date - row.rec_tx_dt\n",
    "        \n",
    "\n",
    "\n",
    "tx_ki_df[[\"dcgf_event\", \"dcgf_time\"]] = tx_ki_df.apply(lambda row: _dcgf_helper(row), axis=1, result_type='expand')"
   ]
  },
  {
   "cell_type": "code",
   "execution_count": null,
   "id": "f6ad2cc2-ed90-45e2-b6b9-ef74da3c7689",
   "metadata": {},
   "outputs": [],
   "source": [
    "tx_ki_df[tx_ki_df.dcgf_event == 1][['rec_tx_dt','pers_retx','custom_death','rec_resum_maint_dial_dt','tfl_resum_maint_dial_dt','pers_optn_death_dt','dcgf_event','dcgf_time']]"
   ]
  },
  {
   "cell_type": "markdown",
   "id": "2c911fbe-f9f7-422a-8610-4b27441ae7ca",
   "metadata": {},
   "source": [
    "## ACGF\n",
    "- \"defined as the time from KT to graft failure (defined above) or death\"\n",
    "- Study censored"
   ]
  },
  {
   "cell_type": "code",
   "execution_count": null,
   "id": "4e4da0de-ceb2-4b3d-ba37-7479e4cb4fdb",
   "metadata": {},
   "outputs": [],
   "source": [
    "def _acgf_helper(row):\n",
    "    arg0, arg1, arg2 = row[['custom_resum_maint_dial','pers_retx','custom_death']]#.values[0]\n",
    "    out = np.array([arg0,arg1,arg2,np.datetime64(end_date)])\n",
    "    bound = np.min(out[~pd.isna(out)])\n",
    "\n",
    "    if arg0 == bound or arg1 == bound:\n",
    "        return 1, bound - row.rec_tx_dt\n",
    "    elif arg2 == bound:\n",
    "        return 1, bound - row.rec_tx_dt\n",
    "    else:\n",
    "        return 0, end_date - row.rec_tx_dt\n",
    "        \n",
    "\n",
    "\n",
    "tx_ki_df[[\"acgf_event\", \"acgf_time\"]] = tx_ki_df.apply(lambda row: _acgf_helper(row), axis=1, result_type='expand')"
   ]
  },
  {
   "cell_type": "markdown",
   "id": "39449602-3802-4795-b47f-ff4c109a49ea",
   "metadata": {},
   "source": [
    "## Death"
   ]
  },
  {
   "cell_type": "code",
   "execution_count": null,
   "id": "f235dd49-932f-47fc-bef7-36b5694bb838",
   "metadata": {},
   "outputs": [],
   "source": [
    "def _death_time_helper(row):\n",
    "    death_time = row[['custom_death']].values[0]\n",
    "    if death_time <= end_date:\n",
    "        return 1, death_time - row.rec_tx_dt\n",
    "    else:\n",
    "        return 0, end_date - row.rec_tx_dt\n",
    "        \n",
    "\n",
    "tx_ki_df[[\"death_event\", \"death_time\"]] = tx_ki_df.apply(lambda row: _death_time_helper(row), axis=1, result_type='expand')"
   ]
  },
  {
   "cell_type": "code",
   "execution_count": null,
   "id": "ec5816bb-fd47-4e60-a387-6e2bbbf9f6cb",
   "metadata": {},
   "outputs": [],
   "source": [
    "df = tx_ki_df[donor_vars+recipient_vars+['rec_ctr_cd','DGF','AR']+[\"dcgf_event\", \"dcgf_time\"]+[\"acgf_event\", \"acgf_time\"]+[\"death_event\", \"death_time\"]]"
   ]
  },
  {
   "cell_type": "code",
   "execution_count": null,
   "id": "f31790f0-4019-4f29-a317-855cbfa6337d",
   "metadata": {},
   "outputs": [],
   "source": [
    "df = df.loc[:, ~df.columns.duplicated()]"
   ]
  },
  {
   "cell_type": "markdown",
   "id": "4642af4d-6cdb-4f09-8385-17d7639fb250",
   "metadata": {},
   "source": [
    "# Regression"
   ]
  },
  {
   "cell_type": "code",
   "execution_count": null,
   "id": "db8c57ab-aa48-41c6-89f0-b8d083fa0f59",
   "metadata": {},
   "outputs": [],
   "source": [
    "reg_df = df.copy()"
   ]
  },
  {
   "cell_type": "markdown",
   "id": "2f30789d-4b61-433b-a530-60ffd028d7b9",
   "metadata": {},
   "source": [
    "## Impute"
   ]
  },
  {
   "cell_type": "markdown",
   "id": "0f5d1c61-084b-436f-97aa-7c60d41549ca",
   "metadata": {},
   "source": [
    "### Clean categoricals"
   ]
  },
  {
   "cell_type": "code",
   "execution_count": null,
   "id": "26cc2c7d-8d9d-4bd8-a96e-47cd9be25256",
   "metadata": {},
   "outputs": [],
   "source": [
    "def _bin_to_numeric_helper(age_bin):\n",
    "    if age_bin == '50-64':\n",
    "        return 57.0\n",
    "    elif age_bin == '35-49':\n",
    "        return 42.0\n",
    "    elif age_bin == '65+':\n",
    "        return 80.5\n",
    "    elif age_bin == '18-34':\n",
    "        return 26.0\n",
    "    \n",
    "reg_df.rec_age_at_tx = reg_df.rec_age_at_tx.apply(lambda x: x if type(x) == float else _bin_to_numeric_helper(x))"
   ]
  },
  {
   "cell_type": "code",
   "execution_count": null,
   "id": "576c4c21-7490-4180-8b2c-6628cd4a7939",
   "metadata": {},
   "outputs": [],
   "source": [
    "def _map_to_binary_helper(val):\n",
    "    val = str(val).strip()\n",
    "    if val.startswith(\"1: NO\"):\n",
    "        return 0\n",
    "    elif val.startswith(\"998\"):\n",
    "        return np.nan\n",
    "    elif val.startswith((\"2:\", \"3:\", \"4:\", \"5:\")):\n",
    "        return 1\n",
    "    else:\n",
    "        return np.nan  # catch anything unexpected\n",
    "\n",
    "reg_df.don_hist_hyperten = reg_df.don_hist_hyperten.apply(_map_to_binary_helper)\n",
    "reg_df.don_hist_diab = reg_df.don_hist_diab.apply(_map_to_binary_helper)"
   ]
  },
  {
   "cell_type": "code",
   "execution_count": null,
   "id": "97d42977-a388-497f-bcde-8e6a3cb9094f",
   "metadata": {},
   "outputs": [],
   "source": [
    "def _serology_to_binary(val):\n",
    "    val = str(val).strip().upper()\n",
    "    if val in ['P', 'PD']:\n",
    "        return 1\n",
    "    elif val == 'N':\n",
    "        return 0\n",
    "    elif val in ['I', 'ND', 'U', '']:\n",
    "        return np.nan\n",
    "    else:\n",
    "        return np.nan  # catch unexpected values\n",
    "\n",
    "reg_df.don_anti_cmv = reg_df.don_anti_cmv.apply(_serology_to_binary)\n",
    "reg_df.don_anti_hcv = reg_df.don_anti_hcv.apply(_serology_to_binary)\n",
    "reg_df.rec_ebv_stat = reg_df.rec_ebv_stat.apply(_serology_to_binary)\n",
    "reg_df.rec_hcv_stat = reg_df.rec_hcv_stat.apply(_serology_to_binary)\n",
    "reg_df.rec_hbv_antibody = reg_df.rec_hbv_antibody.apply(_serology_to_binary)\n",
    "reg_df.rec_cmv_stat = reg_df.rec_cmv_stat.apply(_serology_to_binary)\n",
    "reg_df.rec_hiv_stat = reg_df.rec_hiv_stat.apply(_serology_to_binary)"
   ]
  },
  {
   "cell_type": "code",
   "execution_count": null,
   "id": "f3d27cb4-28e7-4eb0-89db-bf11c23e744a",
   "metadata": {},
   "outputs": [],
   "source": [
    "# Map labels exactly as in your data\n",
    "race_map = {\n",
    "    '8: White': 'White',\n",
    "    '16: Black or African American': 'Black/African American',\n",
    "    '1024: Unknown (for Donor Referral only)': np.nan\n",
    "}\n",
    "\n",
    "def map_race_label(val):\n",
    "    if not isinstance(val, str):\n",
    "        return np.nan\n",
    "    val_clean = val.strip()  # remove leading/trailing spaces\n",
    "\n",
    "    if val_clean in race_map:\n",
    "        return race_map[val_clean]\n",
    "    elif val_clean.startswith(('8:', '16:', '1024:')):\n",
    "        # covers unmapped code strings in case\n",
    "        return race_map.get(val_clean, 'Other')\n",
    "    else:\n",
    "        return 'Other'\n",
    "\n",
    "def override_with_ethnicity(race, ethnicity):\n",
    "    if str(ethnicity).strip() in ['LATINO']:\n",
    "        return 'Hispanic/Latino'\n",
    "    return race\n",
    "\n",
    "reg_df.don_race = reg_df.don_race.apply(map_race_label)\n",
    "reg_df.can_race = reg_df.can_race.apply(map_race_label)\n",
    "reg_df.don_race = reg_df.apply(lambda row: override_with_ethnicity(row.don_race, row.don_ethnicity_srtr), axis=1)\n",
    "reg_df.can_race = reg_df.apply(lambda row: override_with_ethnicity(row.can_race, row.can_ethnicity_srtr), axis=1)"
   ]
  },
  {
   "cell_type": "code",
   "execution_count": null,
   "id": "c2726401-be5e-4fac-b5e8-90444792941e",
   "metadata": {},
   "outputs": [],
   "source": [
    "def map_secondary_education(val):\n",
    "    if not isinstance(val, str):\n",
    "        return np.nan\n",
    "\n",
    "    val = val.strip()\n",
    "\n",
    "    if val in [\n",
    "        '3: HIGH SCHOOL (9-12) or GED',\n",
    "        '4: ATTENDED COLLEGE/TECHNICAL SCHOOL',\n",
    "        '5: ASSOCIATE/BACHELOR DEGREE',\n",
    "        '6: POST-COLLEGE GRADUATE DEGREE'\n",
    "    ]:\n",
    "        return 1\n",
    "    elif val in [\n",
    "        '1: NONE',\n",
    "        '2: GRADE SCHOOL (0-8)'\n",
    "    ]:\n",
    "        return 0\n",
    "    elif val in [\n",
    "        '998: UNKNOWN',\n",
    "        '996: N/A (< 5 YRS OLD)'\n",
    "    ]:\n",
    "        return np.nan\n",
    "    else:\n",
    "        return np.nan\n",
    "\n",
    "reg_df.can_education = reg_df.can_education.apply(map_secondary_education)"
   ]
  },
  {
   "cell_type": "code",
   "execution_count": null,
   "id": "6db5e596-b316-4a06-8c0f-0826afe756ff",
   "metadata": {},
   "outputs": [],
   "source": [
    "def map_binary_outcome_general(val):\n",
    "    val = str(val).strip().upper()\n",
    "    if val == 'Y':\n",
    "        return 1\n",
    "    elif val == 'N':\n",
    "        return 0\n",
    "    else:  # includes 'U', '', or any unknown codes\n",
    "        return np.nan\n",
    "\n",
    "reg_df.can_periph_vasc = reg_df.can_periph_vasc.apply(map_binary_outcome_general)\n",
    "reg_df.rec_malig = reg_df.rec_malig.apply(map_binary_outcome_general)\n",
    "reg_df.can_drug_treat_hyperten = reg_df.can_drug_treat_hyperten.apply(map_binary_outcome_general)"
   ]
  },
  {
   "cell_type": "code",
   "execution_count": null,
   "id": "dc57699a-35e0-4e25-ac8f-20cea44f72f6",
   "metadata": {},
   "outputs": [],
   "source": [
    "def map_diabetes_status(val):\n",
    "    if not isinstance(val, str):\n",
    "        return np.nan\n",
    "\n",
    "    val = val.strip()\n",
    "\n",
    "    if val in [\n",
    "        '2: Type I',\n",
    "        '3: Type II',\n",
    "        '4: Type Other',\n",
    "        '5: Type Unknown'\n",
    "    ]:\n",
    "        return 1\n",
    "    elif val == '1: No':\n",
    "        return 0\n",
    "    elif val == '998: Diabetes Status Unknown':\n",
    "        return np.nan\n",
    "    else:\n",
    "        return np.nan\n",
    "\n",
    "reg_df.can_diab_ty = reg_df.can_diab_ty.apply(map_diabetes_status)\n"
   ]
  },
  {
   "cell_type": "code",
   "execution_count": null,
   "id": "8219427e-eecf-44c1-8ed7-329e36bc946e",
   "metadata": {},
   "outputs": [],
   "source": [
    "def map_medicare_primary(val):\n",
    "    if not isinstance(val, str):\n",
    "        return np.nan\n",
    "\n",
    "    val = val.strip()\n",
    "\n",
    "    if val in [\n",
    "        '3: Public insurance - Medicare FFS (Fee for Service)',\n",
    "        '4: Public insurance - Medicare & Choice'\n",
    "    ]:\n",
    "        return 1\n",
    "    else:\n",
    "        return 0\n",
    "\n",
    "reg_df.rec_primary_pay = reg_df.rec_primary_pay.apply(map_medicare_primary)"
   ]
  },
  {
   "cell_type": "code",
   "execution_count": null,
   "id": "a4bf37c3-e9fe-4e3e-9294-c1b4c6aa0961",
   "metadata": {},
   "outputs": [],
   "source": [
    "def map_esrd_cause(val):\n",
    "    if not isinstance(val, str):\n",
    "        return np.nan\n",
    "\n",
    "    val = val.strip().upper()\n",
    "\n",
    "    if '999' in val or val == '':\n",
    "        return np.nan\n",
    "    elif any(keyword in val for keyword in [\n",
    "        'GLOMERULONEPHRITIS', 'GLOMERULOSCLEROSIS', 'IGA NEPHROPATHY',\n",
    "        'FSG', 'ANTI-GBM', 'GOODPASTURE', 'RPGN', 'MESANGIO', 'MEMBRANOUS'\n",
    "    ]):\n",
    "        return 'Glomerulonephritis'\n",
    "    elif any(keyword in val for keyword in [\n",
    "        'DIABETES', 'INSULIN DEP', 'PANCREATITIS'\n",
    "    ]):\n",
    "        return 'Diabetes'\n",
    "    elif 'HYPERTENSION' in val or 'HYPERTENSIVE' in val:\n",
    "        return 'Hypertension'\n",
    "    else:\n",
    "        return 'Others'\n",
    "\n",
    "reg_df.rec_dgn = reg_df.rec_dgn.apply(map_esrd_cause)"
   ]
  },
  {
   "cell_type": "code",
   "execution_count": null,
   "id": "43668530-c4c2-4283-a541-95c2f0bf4d79",
   "metadata": {},
   "outputs": [],
   "source": [
    "blood_map = {\n",
    "    'A': 'A',\n",
    "    'A1': 'A',\n",
    "    'A2': 'A',\n",
    "    'B': 'B',\n",
    "    'AB': 'AB',\n",
    "    'A1B': 'AB',\n",
    "    'A2B': 'AB',\n",
    "    'O': 'O'\n",
    "}\n",
    "\n",
    "# Example usage:\n",
    "reg_df.don_abo = reg_df.don_abo.map(blood_map)\n",
    "reg_df.can_abo = reg_df.can_abo.map(blood_map)"
   ]
  },
  {
   "cell_type": "code",
   "execution_count": null,
   "id": "2fe102b8-25a2-4512-8972-207138047a14",
   "metadata": {},
   "outputs": [],
   "source": [
    "reg_df"
   ]
  },
  {
   "cell_type": "markdown",
   "id": "2a06e9b9-1b2b-43d0-8559-10d19f5667bd",
   "metadata": {},
   "source": [
    "### Impute missing vars"
   ]
  },
  {
   "cell_type": "code",
   "execution_count": null,
   "id": "99ddac1f-d118-47b4-a589-7588fd2775a9",
   "metadata": {},
   "outputs": [],
   "source": [
    "from sklearn.experimental import enable_iterative_imputer\n",
    "from sklearn.impute import IterativeImputer\n",
    "\n",
    "covars = [\"don_hist_hyperten\", \n",
    "          \"don_hist_diab\", \n",
    "          \"don_anti_hcv\", \n",
    "          \"don_anti_cmv\", \n",
    "          \"don_creat\", \n",
    "          \"don_cod_don_stroke\", \n",
    "          \"don_wgt_kg\", \n",
    "          \"don_hgt_cm\", \n",
    "          \"don_abo\", \n",
    "          \"don_race\", \n",
    "          \"don_gender\", \n",
    "          \"don_age\"] + \\\n",
    "         [\"rec_dr_mm_equiv_tx\",\n",
    "          \"rec_b_mm_equiv_tx\",\n",
    "          \"rec_a_mm_equiv_tx\",\n",
    "          \"rec_cold_isch_tm\",\n",
    "          \"can_education\",\n",
    "          \"can_tot_albumin\",\n",
    "          \"can_periph_vasc\",\n",
    "          \"rec_malig\",\n",
    "          \"can_drug_treat_hyperten\",\n",
    "          \"can_diab_ty\",\n",
    "          \"rec_pra_most_recent\",\n",
    "          \"rec_prev_ki\",\n",
    "          \"rec_ebv_stat\",\n",
    "          \"rec_hcv_stat\",\n",
    "          \"rec_hbv_antibody\",\n",
    "          \"rec_cmv_stat\",\n",
    "          \"rec_hiv_stat\",\n",
    "          \"rec_bmi\",\n",
    "          \"rec_primary_pay\",\n",
    "          \"can_abo\",\n",
    "          \"rec_dgn\",\n",
    "          \"can_race\",\n",
    "          \"can_gender\",\n",
    "          \"rec_age_at_tx\"]\n",
    "\n",
    "# Subset the data\n",
    "# remove    \"rec_dial_dt\",\n",
    "df_subset = reg_df[covars]\n",
    "\n"
   ]
  },
  {
   "cell_type": "code",
   "execution_count": null,
   "id": "bf082c3f-59a7-4e79-be2f-7f143cc8881f",
   "metadata": {},
   "outputs": [],
   "source": [
    "for column in df_subset.select_dtypes(include=['object']).columns:\n",
    "    print(column, list(df_subset[column].unique()))"
   ]
  },
  {
   "cell_type": "code",
   "execution_count": null,
   "id": "08a6f66d-c66d-4ea1-baeb-01293cd445f6",
   "metadata": {},
   "outputs": [],
   "source": [
    "mapping_dicts = {}\n",
    "\n",
    "cat_mappings = {\n",
    "    'don_abo': ['A', 'O', 'AB', 'B'],  # Reference 'A'\n",
    "    'don_race': ['White', 'Black/African American', 'Hispanic/Latino', 'Other'],  # Reference 'White'\n",
    "    'don_gender': ['M', 'F'],\n",
    "    'can_abo': ['A', 'O', 'AB', 'B'],  # Reference 'A'\n",
    "    'rec_dgn': ['Glomerulonephritis', 'Diabetes', 'Hypertension', 'Others'],  # Reference 'Glomerulonephritis'\n",
    "    'can_race': ['White', 'Black/African American', 'Hispanic/Latino', 'Other'],  # Reference 'White'\n",
    "    'can_gender': ['M', 'F']\n",
    "}\n",
    "\n",
    "def convert_to_nominal_cat(df, col, categories):\n",
    "    df[col] = pd.Categorical(df[col], categories=categories, ordered=False)\n",
    "    mapping_dicts[col] = dict(enumerate(df[col].cat.categories))\n",
    "    df[col] = df[col].cat.codes.replace(-1, np.nan)\n",
    "    \n",
    "for col, cats in cat_mappings.items():\n",
    "    convert_to_nominal_cat(df_subset, col, cats)\n"
   ]
  },
  {
   "cell_type": "code",
   "execution_count": null,
   "id": "1cfbcd1f-05ac-484d-87bb-f270569c8d51",
   "metadata": {},
   "outputs": [],
   "source": [
    "for column in df_subset.select_dtypes(include=['object']).columns:\n",
    "    print(column, list(df_subset[column].unique()))"
   ]
  },
  {
   "cell_type": "code",
   "execution_count": null,
   "id": "03ad57ce-41d2-439b-98e7-4b75e8e8cf96",
   "metadata": {},
   "outputs": [],
   "source": [
    "categorical_covars = [\"don_hist_hyperten\",\n",
    "\"don_hist_diab\",\n",
    "\"don_anti_cmv\",\n",
    "\"don_anti_hcv\",\n",
    "\"rec_ebv_stat\",\n",
    "\"rec_hcv_stat\",\n",
    "\"rec_hbv_antibody\",\n",
    "\"rec_cmv_stat\",\n",
    "\"rec_hiv_stat\",\n",
    "\"can_education\",\n",
    "\"can_periph_vasc\",\n",
    "\"rec_malig\",\n",
    "\"can_drug_treat_hyperten\",\n",
    "\"can_diab_ty\",\n",
    "\"rec_primary_pay\",\n",
    "\"rec_dgn\",\n",
    "\"don_abo\",\n",
    "\"don_gender\",\n",
    "\"don_race\",\n",
    "\"can_abo\",\n",
    "\"can_gender\",\n",
    "\"can_race\",\n",
    "\"rec_dr_mm_equiv_tx\",\n",
    "\"rec_a_mm_equiv_tx\",\n",
    "\"rec_b_mm_equiv_tx\",\n",
    "\"don_cod_don_stroke\"]"
   ]
  },
  {
   "cell_type": "code",
   "execution_count": null,
   "id": "d6ea6b12-d002-4ca6-aaa5-96c722104a03",
   "metadata": {},
   "outputs": [],
   "source": [
    "random_state=42\n",
    "# Set up the imputer\n",
    "imputer = IterativeImputer(max_iter=10, random_state=random_state)\n",
    "\n",
    "# Fit and transform the subset\n",
    "imputed_array = imputer.fit_transform(df_subset)\n",
    "\n",
    "# Convert back to DataFrame\n",
    "df_imputed_subset = pd.DataFrame(imputed_array, columns=covars, index=reg_df.index)\n",
    "\n",
    "for col in categorical_covars:\n",
    "    df_imputed_subset[col] = df_imputed_subset[col].round().astype(int)\n",
    "\n",
    "for col in df_imputed_subset.columns:\n",
    "    df_subset[col] = df_imputed_subset[col]\n",
    "\n",
    "for col in df_subset.columns:\n",
    "    reg_df[col] = df_subset[col]"
   ]
  },
  {
   "cell_type": "code",
   "execution_count": null,
   "id": "405284cc-a43b-429c-a596-742617d2bdee",
   "metadata": {},
   "outputs": [],
   "source": [
    "reg_df = reg_df.drop(columns=['don_ethnicity_srtr','can_ethnicity_srtr'])"
   ]
  },
  {
   "cell_type": "code",
   "execution_count": null,
   "id": "c2e84766-d15c-402e-88fd-a9f7552bd36c",
   "metadata": {},
   "outputs": [],
   "source": [
    "reg_df.dtypes"
   ]
  },
  {
   "cell_type": "markdown",
   "id": "dedd4ab4-b0b3-41c7-a9da-343b661ed9d1",
   "metadata": {},
   "source": [
    "## Splines"
   ]
  },
  {
   "cell_type": "code",
   "execution_count": null,
   "id": "6c1bfd6d-b869-4b9a-8897-ed3eb43e0471",
   "metadata": {},
   "outputs": [],
   "source": [
    "def linear_spline(df, var, knots):\n",
    "    \"\"\"\n",
    "    Create linear spline columns for var in df with given knots list.\n",
    "    Returns DataFrame with spline columns.\n",
    "    \"\"\"\n",
    "    df_splines = pd.DataFrame()\n",
    "    df_splines[var + '_spline_1'] = df[var]\n",
    "    for i, k in enumerate(knots):\n",
    "        df_splines[f'{var}_spline_{i+2}'] = (df[var] - k).clip(lower=0)\n",
    "    return df_splines\n",
    "\n",
    "# Example usage\n",
    "don_age_splines = linear_spline(reg_df, 'don_age', knots=[30, 60])\n",
    "don_hgt_cm_splines = linear_spline(reg_df, 'don_hgt_cm', knots=[170])\n",
    "don_wgt_kg_splines = linear_spline(reg_df, 'don_wgt_kg', knots=[80])\n",
    "don_creat_splines = linear_spline(reg_df, 'don_creat', knots=[0.8])\n",
    "rec_age_splines = linear_spline(reg_df, 'rec_age_at_tx', knots=[30, 60])\n",
    "rec_bmi_splines = linear_spline(reg_df, 'rec_bmi', knots=[30])\n",
    "rec_serum_albumin_splines = linear_spline(reg_df, 'can_tot_albumin', knots=[3])\n",
    "rec_pra_splines = linear_spline(reg_df, 'rec_pra_most_recent', knots=[80,90])\n",
    "rec_cold_splines = linear_spline(reg_df, 'rec_cold_isch_tm', knots=[6,36])\n",
    "rec_dial_splines = linear_spline(reg_df.loc[reg_df['rec_time_on_dialysis'] > 0], 'rec_time_on_dialysis', [2,6])"
   ]
  },
  {
   "cell_type": "code",
   "execution_count": null,
   "id": "8893dec2-374e-43fe-b976-ec3b2521c116",
   "metadata": {},
   "outputs": [],
   "source": [
    "reg_df.loc[reg_df['rec_time_on_dialysis'] > 0]"
   ]
  },
  {
   "cell_type": "code",
   "execution_count": null,
   "id": "5a2f9910-1023-4461-b01d-ec9709e8bad8",
   "metadata": {},
   "outputs": [],
   "source": [
    "reg_df[reg_df.rec_time_on_dialysis.isna()]"
   ]
  },
  {
   "cell_type": "markdown",
   "id": "d8a5e748-a590-4f03-9270-0f5fc75a671c",
   "metadata": {},
   "source": [
    "## Reference Categories"
   ]
  },
  {
   "cell_type": "code",
   "execution_count": null,
   "id": "09d1611e-a5c2-4efa-9782-924724d2172c",
   "metadata": {},
   "outputs": [],
   "source": [
    "mapping_dicts.pop('don_gender')\n",
    "mapping_dicts.pop('can_gender')"
   ]
  },
  {
   "cell_type": "code",
   "execution_count": null,
   "id": "c1832709-feff-45e9-a157-324251167810",
   "metadata": {},
   "outputs": [],
   "source": [
    "mapping_dicts"
   ]
  },
  {
   "cell_type": "code",
   "execution_count": null,
   "id": "9fd2b232-0a1f-462e-8f5f-b0847be3367e",
   "metadata": {},
   "outputs": [],
   "source": [
    "for col, cats in mapping_dicts.items():\n",
    "    reg_df[col + '_cat'] = reg_df[col].map(mapping_dicts[col])"
   ]
  },
  {
   "cell_type": "code",
   "execution_count": null,
   "id": "56bf73c9-bfe4-4930-8726-d572fc45d611",
   "metadata": {},
   "outputs": [],
   "source": [
    "reg_df.rec_ctr_cd"
   ]
  },
  {
   "cell_type": "code",
   "execution_count": null,
   "id": "a60c8975-da7c-43a8-975d-fdf1571955a4",
   "metadata": {},
   "outputs": [],
   "source": [
    "def one_hot_encode(df, var, ref):\n",
    "    dummies = pd.get_dummies(df[var], prefix=var)\n",
    "    ref_col = f\"{var}_{ref}\"\n",
    "    if ref_col in dummies.columns:\n",
    "        dummies = dummies.drop(columns=[f'{var}_{ref}'])\n",
    "    return dummies\n",
    "\n",
    "don_race_dummies = one_hot_encode(reg_df, 'don_race_cat', 'White')\n",
    "don_abo_dummies = one_hot_encode(reg_df, 'don_abo_cat', 'A')\n",
    "can_race_dummies = one_hot_encode(reg_df, 'can_race_cat', 'White')\n",
    "can_abo_dummies = one_hot_encode(reg_df, 'can_abo_cat', 'A')\n",
    "can_dgn_dummies = one_hot_encode(reg_df, 'rec_dgn_cat', 'Glomerulonephritis')\n",
    "can_a_mm_dummies = one_hot_encode(reg_df, 'rec_a_mm_equiv_tx',0)\n",
    "can_b_mm_dummies = one_hot_encode(reg_df, 'rec_b_mm_equiv_tx',0)\n",
    "can_dr_mm_dummies = one_hot_encode(reg_df, 'rec_dr_mm_equiv_tx',0)"
   ]
  },
  {
   "cell_type": "code",
   "execution_count": null,
   "id": "52dca9bc-e212-4f66-99f5-a21eaa2946d5",
   "metadata": {},
   "outputs": [],
   "source": [
    "binary_vars=['don_hist_hyperten', \n",
    " 'don_hist_diab', \n",
    " 'don_anti_hcv', \n",
    " 'don_anti_cmv',\n",
    " 'don_cod_don_stroke',\n",
    " 'don_gender', \n",
    " 'DCD',\n",
    " 'can_education', \n",
    " 'can_periph_vasc', \n",
    " 'rec_malig',\n",
    " 'can_drug_treat_hyperten', \n",
    " 'can_diab_ty', \n",
    " 'rec_prev_ki',\n",
    " 'rec_ebv_stat', \n",
    " 'rec_hcv_stat', \n",
    " 'rec_hbv_antibody', \n",
    " 'rec_cmv_stat',\n",
    " 'rec_hiv_stat', \n",
    " 'rec_primary_pay', \n",
    " 'can_gender', \n",
    " 'DGF', \n",
    " 'AR',\n",
    " 'dcgf_event', \n",
    " 'dcgf_time',\n",
    " 'acgf_event',\n",
    " 'acgf_time',\n",
    " 'death_event',\n",
    " 'death_time',\n",
    " 'rec_ctr_cd']\n",
    "\n",
    "reg_df[binary_vars]"
   ]
  },
  {
   "cell_type": "code",
   "execution_count": null,
   "id": "87c89beb-7299-41c1-b942-5e66a11e8bea",
   "metadata": {},
   "outputs": [],
   "source": [
    "# Get list of spline columns\n",
    "spline_cols = [col for col in reg_df.columns if col.startswith('rec_time_on_dialysis_spline')]\n",
    "\n",
    "# Mask splines where preemptive transplant\n",
    "reg_df[spline_cols] = reg_df[spline_cols].multiply(1 - reg_df['preemptive_tx'], axis=0)\n"
   ]
  },
  {
   "cell_type": "code",
   "execution_count": null,
   "id": "806a7eb7-2e7c-44bc-853c-45425d39fe32",
   "metadata": {},
   "outputs": [],
   "source": [
    "df_model = pd.concat([\n",
    "don_age_splines,\n",
    "don_hgt_cm_splines,\n",
    "don_wgt_kg_splines,\n",
    "don_creat_splines,\n",
    "rec_age_splines,\n",
    "rec_bmi_splines,\n",
    "rec_serum_albumin_splines,\n",
    "rec_pra_splines,\n",
    "rec_cold_splines,\n",
    "rec_dial_splines,\n",
    "don_race_dummies,\n",
    "don_abo_dummies,\n",
    "can_race_dummies,\n",
    "can_abo_dummies,\n",
    "can_dgn_dummies,\n",
    "can_a_mm_dummies,\n",
    "can_b_mm_dummies,\n",
    "can_dr_mm_dummies,\n",
    "reg_df[binary_vars]\n",
    "], axis=1)\n",
    "df_model.fillna(0,inplace=True)"
   ]
  },
  {
   "cell_type": "markdown",
   "id": "29d682a0-0168-4136-9a02-b0da0afba3fb",
   "metadata": {},
   "source": [
    "# Split"
   ]
  },
  {
   "cell_type": "code",
   "execution_count": null,
   "id": "8e3b7436-768e-4224-9255-ad20432cf914",
   "metadata": {},
   "outputs": [],
   "source": [
    "random_state = 42\n",
    "\n",
    "from sklearn.model_selection import train_test_split\n",
    "\n",
    "centers = df_model.rec_ctr_cd.unique()\n",
    "\n",
    "train_centers, val_centers = train_test_split(centers, test_size=0.3,random_state=random_state)\n",
    "\n",
    "train_df = df_model[df_model.rec_ctr_cd.isin(train_centers)].copy()\n",
    "val_df = df_model[df_model.rec_ctr_cd.isin(val_centers)].copy()\n",
    "\n",
    "print(train_df.shape)\n",
    "print(val_df.shape)"
   ]
  },
  {
   "cell_type": "markdown",
   "id": "f3270a33-0ce8-4a70-87e7-ff8c7270bbd0",
   "metadata": {},
   "source": [
    "## Logistic Regression (AR and DGF)"
   ]
  },
  {
   "cell_type": "code",
   "execution_count": null,
   "id": "38d4d7f2-79fe-464d-bdc8-3293cc2f7006",
   "metadata": {},
   "outputs": [],
   "source": [
    "non_covars = ['DGF', 'AR', 'dcgf_event', 'dcgf_time', 'acgf_event', 'acgf_time', 'death_event', 'death_time', 'rec_ctr_cd']"
   ]
  },
  {
   "cell_type": "code",
   "execution_count": null,
   "id": "faa565c3-5ed5-4cfa-95a3-2ab6a9260e2d",
   "metadata": {
    "scrolled": true
   },
   "outputs": [],
   "source": [
    "predictors = [col for col in train_df.columns if col not in non_covars]\n",
    "predictors"
   ]
  },
  {
   "cell_type": "code",
   "execution_count": null,
   "id": "45bf21c5-6dbf-4f0b-9c11-3f5afc6be1c4",
   "metadata": {},
   "outputs": [],
   "source": [
    "from sklearn.linear_model import LogisticRegression\n",
    "from sklearn.metrics import classification_report, roc_auc_score\n",
    "\n",
    "X_train = train_df[predictors]\n",
    "X_valid = val_df[predictors]\n",
    "\n",
    "y_train_dgf = train_df['DGF']\n",
    "y_valid_dgf = val_df['DGF']\n",
    "\n",
    "# Fit model\n",
    "model_dgf = LogisticRegression(max_iter=10000, class_weight='balanced')  # optional: class_weight\n",
    "model_dgf.fit(X_train, y_train_dgf)\n",
    "\n",
    "# Predict and evaluate\n",
    "y_pred_dgf = model_dgf.predict(X_valid)\n",
    "y_prob_dgf = model_dgf.predict_proba(X_valid)[:, 1]\n",
    "\n",
    "print(\"DGF Classification Report:\")\n",
    "print(classification_report(y_valid_dgf, y_pred_dgf))\n",
    "print(\"DGF ROC AUC:\", roc_auc_score(y_valid_dgf, y_prob_dgf))\n"
   ]
  },
  {
   "cell_type": "code",
   "execution_count": null,
   "id": "816678d0-9fa1-4565-bbc2-7782d9abd8a3",
   "metadata": {},
   "outputs": [],
   "source": [
    "y_train_dgf = train_df['AR']\n",
    "y_valid_dgf = val_df['AR']\n",
    "\n",
    "# Fit model\n",
    "model_dgf = LogisticRegression(max_iter=10000, class_weight='balanced')  # optional: class_weight\n",
    "model_dgf.fit(X_train, y_train_dgf)\n",
    "\n",
    "# Predict and evaluate\n",
    "y_pred_dgf = model_dgf.predict(X_valid)\n",
    "y_prob_dgf = model_dgf.predict_proba(X_valid)[:, 1]\n",
    "y_train_dgf = train_df['AR']\n",
    "y_valid_dgf = val_df['AR']\n",
    "\n",
    "print(\"AR Classification Report:\")\n",
    "print(classification_report(y_valid_dgf, y_pred_dgf))\n",
    "print(\"AR ROC AUC:\", roc_auc_score(y_valid_dgf, y_prob_dgf))\n"
   ]
  },
  {
   "cell_type": "markdown",
   "id": "20c0236c-86a6-47c7-832f-98e67ab077f3",
   "metadata": {},
   "source": [
    "# TabPFN"
   ]
  },
  {
   "cell_type": "code",
   "execution_count": null,
   "id": "6bd338e8-b446-4f17-8f0e-cd1cfbb42c71",
   "metadata": {},
   "outputs": [],
   "source": [
    "categorical_covars = [\n",
    "\"don_hist_diab\",\n",
    "\"don_anti_cmv\",\n",
    "\"don_anti_hcv\",\n",
    "\"rec_ebv_stat\",\n",
    "\"rec_hcv_stat\",\n",
    "\"rec_hbv_antibody\",\n",
    "\"rec_cmv_stat\",\n",
    "\"rec_hiv_stat\",\n",
    "\"can_education\",\n",
    "\"can_periph_vasc\",\n",
    "\"rec_malig\",\n",
    "\"can_drug_treat_hyperten\",\n",
    "\"can_diab_ty\",\n",
    "\"rec_primary_pay\",\n",
    "\"rec_dr_mm_equiv_tx\",\n",
    "\"rec_a_mm_equiv_tx\",\n",
    "\"rec_b_mm_equiv_tx\",\n",
    "\"don_cod_don_stroke\"]\n",
    "for col in categorical_covars:\n",
    "    reg_df[col] = reg_df[col].astype(int)"
   ]
  },
  {
   "cell_type": "code",
   "execution_count": null,
   "id": "920d277b-e97f-492b-8621-7f04fead0761",
   "metadata": {},
   "outputs": [],
   "source": [
    "tab_pfn_df = reg_df[['don_age',\n",
    " 'don_hgt_cm',\n",
    " 'don_wgt_kg',\n",
    " 'don_creat',\n",
    " 'rec_age_at_tx',\n",
    " 'rec_bmi',\n",
    " 'can_tot_albumin',\n",
    " 'rec_pra_most_recent',\n",
    " 'rec_cold_isch_tm',\n",
    " 'rec_time_on_dialysis',\n",
    " 'don_race',\n",
    " 'don_abo',\n",
    " 'can_race',\n",
    " 'can_abo',\n",
    " 'rec_dgn',\n",
    " 'rec_a_mm_equiv_tx',\n",
    " 'rec_b_mm_equiv_tx',\n",
    " 'rec_dr_mm_equiv_tx',\n",
    " 'don_hist_hyperten',\n",
    " 'don_hist_diab',\n",
    " 'don_anti_hcv',\n",
    " 'don_anti_cmv',\n",
    " 'don_cod_don_stroke',\n",
    " 'don_gender',\n",
    " 'DCD',\n",
    " 'can_education',\n",
    " 'can_periph_vasc',\n",
    " 'rec_malig',\n",
    " 'can_drug_treat_hyperten',\n",
    " 'can_diab_ty',\n",
    " 'rec_prev_ki',\n",
    " 'rec_ebv_stat',\n",
    " 'rec_hcv_stat',\n",
    " 'rec_hbv_antibody',\n",
    " 'rec_cmv_stat',\n",
    " 'rec_hiv_stat',\n",
    " 'rec_primary_pay',\n",
    " 'can_gender',\n",
    " 'DGF','AR','rec_ctr_cd']]"
   ]
  },
  {
   "cell_type": "code",
   "execution_count": null,
   "id": "f2d72c6e-7e9b-4003-a623-0bb33944f383",
   "metadata": {},
   "outputs": [],
   "source": [
    "predictors = ['don_age',\n",
    " 'don_hgt_cm',\n",
    " 'don_wgt_kg',\n",
    " 'don_creat',\n",
    " 'rec_age_at_tx',\n",
    " 'rec_bmi',\n",
    " 'can_tot_albumin',\n",
    " 'rec_pra_most_recent',\n",
    " 'rec_cold_isch_tm',\n",
    " 'rec_time_on_dialysis',\n",
    " 'don_race',\n",
    " 'don_abo',\n",
    " 'can_race',\n",
    " 'can_abo',\n",
    " 'rec_dgn',\n",
    " 'rec_a_mm_equiv_tx',\n",
    " 'rec_b_mm_equiv_tx',\n",
    " 'rec_dr_mm_equiv_tx',\n",
    " 'don_hist_hyperten',\n",
    " 'don_hist_diab',\n",
    " 'don_anti_hcv',\n",
    " 'don_anti_cmv',\n",
    " 'don_cod_don_stroke',\n",
    " 'don_gender',\n",
    " 'DCD',\n",
    " 'can_education',\n",
    " 'can_periph_vasc',\n",
    " 'rec_malig',\n",
    " 'can_drug_treat_hyperten',\n",
    " 'can_diab_ty',\n",
    " 'rec_prev_ki',\n",
    " 'rec_ebv_stat',\n",
    " 'rec_hcv_stat',\n",
    " 'rec_hbv_antibody',\n",
    " 'rec_cmv_stat',\n",
    " 'rec_hiv_stat',\n",
    " 'rec_primary_pay',\n",
    " 'can_gender']"
   ]
  },
  {
   "cell_type": "markdown",
   "id": "9cf6ef58-3e23-4924-bce5-22a800c6adb6",
   "metadata": {},
   "source": [
    "## Subsampling"
   ]
  },
  {
   "cell_type": "code",
   "execution_count": null,
   "id": "70dfcccd-1191-4e8f-9e7f-537d121fc309",
   "metadata": {},
   "outputs": [],
   "source": [
    "random_state = 42\n",
    "\n",
    "from sklearn.model_selection import train_test_split\n",
    "\n",
    "centers = tab_pfn_df.rec_ctr_cd.unique()\n",
    "\n",
    "train_centers, val_centers = train_test_split(centers, test_size=0.3,random_state=random_state)\n",
    "\n",
    "train_df_tab = tab_pfn_df[tab_pfn_df.rec_ctr_cd.isin(train_centers)].copy()\n",
    "val_df_tab = tab_pfn_df[tab_pfn_df.rec_ctr_cd.isin(val_centers)].copy()\n",
    "\n",
    "print(train_df_tab.shape)\n",
    "print(val_df_tab.shape)\n",
    "\n",
    "X_train = train_df_tab[predictors]\n",
    "X_valid = val_df_tab[predictors]\n",
    "\n",
    "y_train_dgf = train_df_tab['DGF']\n",
    "y_valid_dgf = val_df_tab['DGF']"
   ]
  },
  {
   "cell_type": "code",
   "execution_count": null,
   "id": "f7e8bd6a-627e-47c2-a5a2-6eb49f7fdca8",
   "metadata": {},
   "outputs": [],
   "source": []
  },
  {
   "cell_type": "code",
   "execution_count": null,
   "id": "83fc2c45-c4ae-4eed-bc3a-795051185f12",
   "metadata": {},
   "outputs": [],
   "source": [
    "indices = [train_df_tab.columns.get_loc(col) for col in categorical_covars]\n",
    "print(indices)"
   ]
  },
  {
   "cell_type": "code",
   "execution_count": null,
   "id": "3f8c5ffd-67fa-42cf-a9ac-f7422bc93fe4",
   "metadata": {},
   "outputs": [],
   "source": [
    "from tabpfn import TabPFNClassifier\n",
    "from sklearn.metrics import roc_auc_score, accuracy_score\n",
    "\n",
    "# Initialize and train classifier\n",
    "clf_base = TabPFNClassifier(device='cuda',\n",
    "                             categorical_features_indices=indices,\n",
    "                             ignore_pretraining_limits=True,\n",
    "                             inference_config = {\"SUBSAMPLE_SAMPLES\":6000})\n",
    "\n",
    "  \n",
    "clf_base.fit(X_train, y_train_dgf)\n",
    "\n",
    "preds = clf_base.predict_proba(X_valid)\n",
    "y_eval = np.argmax(preds, axis=1)\n",
    "\n",
    "\n",
    "print('ROC AUC: ',  roc_auc_score(y_valid_dgf, preds[:,1]), 'Accuracy', accuracy_score(y_valid_dgf, y_eval))"
   ]
  },
  {
   "cell_type": "code",
   "execution_count": null,
   "id": "e61f2827-5682-437c-b118-60ae7d27f431",
   "metadata": {},
   "outputs": [],
   "source": [
    "from tabpfn import TabPFNClassifier\n",
    "y_train_ar = train_df_tab['AR']\n",
    "y_valid_ar = val_df_tab['AR']\n",
    "\n",
    "# Initialize and train classifier\n",
    "clf = TabPFNClassifier(device='cuda',\n",
    "                             categorical_features_indices=indices,\n",
    "                             ignore_pretraining_limits=True,\n",
    "                             inference_config = {\"SUBSAMPLE_SAMPLES\": 15000})\n",
    "clf.fit(X_train, y_train_ar)\n",
    "\n",
    "preds = clf.predict_proba(X_valid)\n",
    "y_eval = np.argmax(preds, axis=1)\n",
    "\n",
    "from sklearn.metrics import roc_auc_score, accuracy_score\n",
    "print('ROC AUC: ',  roc_auc_score(y_valid_ar, preds[:,1]), 'Accuracy', accuracy_score(y_valid_ar, y_eval))"
   ]
  },
  {
   "cell_type": "code",
   "execution_count": null,
   "id": "cef5adcd-6393-45c5-80e1-3ccaec51ffb7",
   "metadata": {},
   "outputs": [],
   "source": [
    "X_train.shape[0]"
   ]
  },
  {
   "cell_type": "markdown",
   "id": "e58f01ee-e3f1-47f5-a162-5316c897187f",
   "metadata": {},
   "source": [
    "## TabPFN-DT"
   ]
  },
  {
   "cell_type": "code",
   "execution_count": null,
   "id": "6ffabd62-251c-45fa-9163-1cc5ae553251",
   "metadata": {},
   "outputs": [],
   "source": [
    "random_state = 42\n",
    "\n",
    "from sklearn.model_selection import train_test_split\n",
    "\n",
    "centers = tab_pfn_df.rec_ctr_cd.unique()\n",
    "\n",
    "train_centers, val_centers = train_test_split(centers, test_size=0.3,random_state=random_state)\n",
    "\n",
    "train_df_tab = tab_pfn_df[tab_pfn_df.rec_ctr_cd.isin(train_centers)].copy()\n",
    "val_df_tab = tab_pfn_df[tab_pfn_df.rec_ctr_cd.isin(val_centers)].copy()\n",
    "\n",
    "print(train_df_tab.shape)\n",
    "print(val_df_tab.shape)\n",
    "\n",
    "X_train = train_df_tab[predictors]\n",
    "X_valid = val_df_tab[predictors]\n",
    "\n",
    "y_train_dgf = train_df_tab['DGF']\n",
    "y_valid_dgf = val_df_tab['DGF']"
   ]
  },
  {
   "cell_type": "code",
   "execution_count": null,
   "id": "ac73c4d0-1f0f-4487-bb77-a13bac973024",
   "metadata": {},
   "outputs": [],
   "source": [
    "from sklearn.tree import DecisionTreeClassifier\n",
    "from collections import defaultdict\n",
    "\n",
    "def train_tree_tabpfn(X_train, y_train):\n",
    "    n_samples = X_train.shape[0]\n",
    "    max_depth = 3 if n_samples < 100_000 else 10\n",
    "\n",
    "    # Step 1: Train shallow decision tree\n",
    "    tree = DecisionTreeClassifier(max_depth=max_depth)\n",
    "    tree.fit(X_train, y_train)\n",
    "\n",
    "    # Step 2: Find leaf indices for all training data\n",
    "    leaf_indices = tree.apply(X_train)\n",
    "\n",
    "    # Step 3: Train a  model per leaf\n",
    "    tabpfn_models = {}\n",
    "    for leaf_id in set(leaf_indices):\n",
    "        idx = (leaf_indices == leaf_id)\n",
    "        X_leaf, y_leaf = X_train[idx], y_train[idx]\n",
    "\n",
    "        model = TabPFNClassifier(device='cuda', categorical_features_indices=indices,ignore_pretraining_limits=True, inference_config = {\"SUBSAMPLE_SAMPLES\": 6000})\n",
    "        model.fit(X_leaf, y_leaf)\n",
    "        tabpfn_models[leaf_id] = model\n",
    "\n",
    "    return tree, tabpfn_models\n",
    "\n",
    "\n",
    "def predict_tree_tabpfn(tree, tabpfn_models, X_test):\n",
    "    leaf_indices = tree.apply(X_test)\n",
    "    y_pred = []\n",
    "\n",
    "    for i, leaf_id in enumerate(leaf_indices):\n",
    "        model = tabpfn_models.get(leaf_id)\n",
    "\n",
    "        if model is None:\n",
    "            raise ValueError(f\"No TabPFN_v2 model found for leaf {leaf_id}\")\n",
    "\n",
    "        pred = model.predict_proba(X_test.iloc[[i]])\n",
    "        y_pred.append(pred[0])\n",
    "\n",
    "    return y_pred\n",
    "\n",
    "def predict_tree_tabpfn_batch(tree, tabpfn_models, X_test):\n",
    "    # Step 1: Get the leaf node for each test sample\n",
    "    leaf_ids = tree.apply(X_test)\n",
    "\n",
    "    # Step 2: Group test indices by leaf ID\n",
    "    leaf_to_test_indices = defaultdict(list)\n",
    "    for i, leaf_id in enumerate(leaf_ids):\n",
    "        leaf_to_test_indices[leaf_id].append(i)\n",
    "\n",
    "    # Step 3: Run inference in batch per leaf\n",
    "    y_pred = np.zeros((len(X_test),2))\n",
    "    for leaf_id, indices in leaf_to_test_indices.items():\n",
    "        model = tabpfn_models.get(leaf_id)\n",
    "        if model is None:\n",
    "            raise ValueError(f\"No TabPFN model found for leaf {leaf_id}\")\n",
    "\n",
    "        # Batch inference for all test samples in this leaf\n",
    "        X_leaf = X_test.iloc[indices]\n",
    "        preds = model.predict_proba(X_leaf)  # or model.predict() if returning class only\n",
    "\n",
    "        # Store predictions in the right positions\n",
    "        y_pred[indices] = preds\n",
    "\n",
    "    return y_pred\n"
   ]
  },
  {
   "cell_type": "code",
   "execution_count": null,
   "id": "6044bad9-d6b3-459c-91f5-4143fd481b1d",
   "metadata": {},
   "outputs": [],
   "source": [
    "tree, tabpfn_models = train_tree_tabpfn(X_train, y_train_dgf)\n",
    "\n",
    "preds = predict_tree_tabpfn_batch(tree, tabpfn_models, X_valid)\n",
    "y_eval = np.argmax(preds, axis=1)\n",
    "\n",
    "from sklearn.metrics import roc_auc_score, accuracy_score\n",
    "print('ROC AUC: ',  roc_auc_score(y_valid_dgf, preds[:,1]), 'Accuracy', accuracy_score(y_valid_dgf, y_eval))"
   ]
  },
  {
   "cell_type": "code",
   "execution_count": null,
   "id": "4a964d80-edf7-457e-912d-5525b0f97b39",
   "metadata": {},
   "outputs": [],
   "source": [
    "tree, tabpfn_models = train_tree_tabpfn(X_train, y_train_ar)\n",
    "\n",
    "preds = predict_tree_tabpfn_batch(tree, tabpfn_models, X_valid)\n",
    "y_eval = np.argmax(preds, axis=1)\n",
    "\n",
    "from sklearn.metrics import roc_auc_score, accuracy_score\n",
    "print('ROC AUC: ',  roc_auc_score(y_valid_ar, preds[:,1]), 'Accuracy', accuracy_score(y_valid_ar, y_eval))"
   ]
  },
  {
   "cell_type": "markdown",
   "id": "47747bb7-e87a-4162-989f-b47d3ec128cc",
   "metadata": {},
   "source": [
    "## TabPFN-SQ"
   ]
  },
  {
   "cell_type": "code",
   "execution_count": null,
   "id": "368f749f-7201-4a75-9423-9bd54529c755",
   "metadata": {},
   "outputs": [],
   "source": [
    "import numpy as np\n",
    "from tabpfn_extensions import TabPFNClassifier\n",
    "from tabpfn_extensions.embedding import TabPFNEmbedding\n",
    "from sklearn.linear_model import LogisticRegression\n",
    "from sklearn.metrics import accuracy_score\n",
    "from sklearn.model_selection import train_test_split\n",
    "\n",
    "\n",
    "n_repeats = 4\n",
    "predictions_list = []\n",
    "X_train_full = tab_pfn_df[predictors]\n",
    "y_train_full = tab_pfn_df['DGF']\n",
    "\n",
    "clf = TabPFNClassifier(device='cuda')\n",
    "tabpfn_model = TabPFNEmbedding(tabpfn_clf=clf, n_fold=0)\n",
    "for seed in range(n_repeats):\n",
    "    np.random.seed(seed)\n",
    "\n",
    "# Sample 10,000 support points \n",
    "    support_indices = np.random.choice(len(X_train_full), size=10000, replace=False)\n",
    "    query_indices = np.setdiff1d(np.arange(len(X_train_full)), support_indices)\n",
    "\n",
    "    X_support = X_train_full.iloc[support_indices]\n",
    "    y_support = y_train_full.iloc[support_indices]\n",
    "\n",
    "    X_query = X_train_full.iloc[query_indices]\n",
    "    y_query = y_train_full.iloc[query_indices]\n",
    "\n",
    "\n",
    "    query_embeddings = tabpfn_model.get_embeddings(\n",
    "        X_train=X_support,\n",
    "        y_train=y_support,\n",
    "        X=X_query,\n",
    "        data_source='train'\n",
    "    )\n",
    "\n",
    "    test_embeddings = tabpfn_model.get_embeddings(\n",
    "        X_train=X_support,\n",
    "        y_train=y_support,\n",
    "        query_features=X_valid,\n",
    "        data_source='test'\n",
    "    )\n",
    "\n",
    "    clf = LogisticRegression(max_iter=500)\n",
    "    clf.fit(query_embeddings, y_query)\n",
    "\n",
    "\n",
    "    y_pred = clf.predict_proba(test_embeddings)\n",
    "    predictions_list.append(y_pred)\n",
    "\n",
    "final_probs = np.mean(predictions_list, axis=0)\n",
    "final_preds = np.argmax(final_probs, axis=1)\n",
    "\n",
    "roc = roc_auc_score(y_valid_dgf, final_preds)\n",
    "accuracy = accuracy_score(y_valid_dgf, final_preds)\n",
    "print(f\"TabPFN v2*-SQ accuracy: {accuracy:.4f}\")\n",
    "print(f\"TabPFN v2*-SQ auroc: {roc:.4f}\")"
   ]
  },
  {
   "cell_type": "code",
   "execution_count": null,
   "id": "503d5484-48ed-442d-8f97-d0cb88011c47",
   "metadata": {},
   "outputs": [],
   "source": [
    "# Too lazy to wrap in function...\n",
    "n_repeats = 4\n",
    "predictions_list = []\n",
    "X_train_full = tab_pfn_df[predictors]\n",
    "y_train_full = tab_pfn_df['AR']\n",
    "\n",
    "\n",
    "for seed in range(n_repeats):\n",
    "    np.random.seed(random_state)\n",
    "\n",
    "    support_indices = np.random.choice(len(X_train_full), size=10_000, replace=False)\n",
    "    query_indices = np.setdiff1d(np.arange(len(X_train_full)), support_indices)\n",
    "\n",
    "    X_support = X_train_full[support_indices]\n",
    "    y_support = y_train_full[support_indices]\n",
    "\n",
    "    X_query = X_train_full[query_indices]\n",
    "    y_query = y_train_full[query_indices]\n",
    "\n",
    "    query_embeddings = tabpfn_model.get_embeddings(\n",
    "        X_train=X_support,\n",
    "        y_train=y_support,\n",
    "        X=X_query\n",
    "    )\n",
    "\n",
    "    test_embeddings = tabpfn_model.get_embeddings(\n",
    "        X_train=X_support,\n",
    "        y_train=y_support,\n",
    "        query_features=X_valid\n",
    "    )\n",
    "\n",
    "    clf = LogisticRegression(max_iter=500)\n",
    "    clf.fit(query_embeddings, y_query)\n",
    "\n",
    "    y_pred = clf.predict_proba(test_embeddings)\n",
    "    predictions_list.append(y_pred)\n",
    "\n",
    "final_probs = np.mean(predictions_list, axis=0)\n",
    "final_preds = np.argmax(final_probs, axis=1)\n",
    "\n",
    "roc = roc_auc_score(y_valid_dgf, final_preds)\n",
    "accuracy = accuracy_score(y_valid_dgf, final_preds)\n",
    "print(f\"TabPFN v2*-SQ accuracy: {accuracy:.4f}\")\n",
    "print(f\"TabPFN v2*-SQ auroc: {roc:.4f}\")"
   ]
  },
  {
   "cell_type": "code",
   "execution_count": null,
   "id": "adfc1991-c6ed-4acc-9564-19d5fdb13c3b",
   "metadata": {},
   "outputs": [],
   "source": []
  }
 ],
 "metadata": {
  "kernelspec": {
   "display_name": "Python 3 (ipykernel)",
   "language": "python",
   "name": "python3"
  },
  "language_info": {
   "codemirror_mode": {
    "name": "ipython",
    "version": 3
   },
   "file_extension": ".py",
   "mimetype": "text/x-python",
   "name": "python",
   "nbconvert_exporter": "python",
   "pygments_lexer": "ipython3",
   "version": "3.13.2"
  }
 },
 "nbformat": 4,
 "nbformat_minor": 5
}
